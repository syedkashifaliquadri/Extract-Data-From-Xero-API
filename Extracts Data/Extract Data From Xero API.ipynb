{
 "cells": [
  {
   "cell_type": "code",
   "execution_count": 1,
   "metadata": {},
   "outputs": [],
   "source": [
    "import json\n",
    "import requests\n",
    "import webbrowser\n",
    "import base64\n",
    "import requests\n",
    "\n",
    "client_id = '98C9F534A5A44ECE8384CBB963A9C790'\n",
    "client_secret = 'mdsj1JJNZi_EmtOHxvGDD6l4ELUPV0hgzyROO5bWDdODL2mL'\n",
    "redirect_url = 'https://xero.com/'\n",
    "scope = 'offline_access accounting.transactions'\n",
    "b64_id_secret = base64.b64encode(bytes(client_id + ':' + client_secret, 'utf-8')).decode('utf-8')\n",
    "\n",
    "def XeroFirstAuth():\n",
    "    # 1. Send a user to authorize your app\n",
    "    auth_url = ('''https://login.xero.com/identity/connect/authorize?''' +\n",
    "                '''response_type=code''' +\n",
    "                '''&client_id=''' + client_id +\n",
    "                '''&redirect_uri=''' + redirect_url +\n",
    "                '''&scope=''' + scope +\n",
    "                '''&state=123''')\n",
    "    webbrowser.open_new(auth_url)\n",
    "    \n",
    "    # 2. Users are redirected back to you with a code\n",
    "    auth_res_url = input('What is the response URL? ')\n",
    "    start_number = auth_res_url.find('code=') + len('code=')\n",
    "    end_number = auth_res_url.find('&scope')\n",
    "    auth_code = auth_res_url[start_number:end_number]\n",
    "    print(auth_code)\n",
    "    print('\\n')\n",
    "    \n",
    "    # 3. Exchange the code\n",
    "    exchange_code_url = 'https://identity.xero.com/connect/token'\n",
    "    response = requests.post(exchange_code_url, \n",
    "                            headers = {\n",
    "                                'Authorization': 'Basic ' + b64_id_secret\n",
    "                            },\n",
    "                            data = {\n",
    "                                'grant_type': 'authorization_code',\n",
    "                                'code': auth_code,\n",
    "                                'redirect_uri': redirect_url\n",
    "                            })\n",
    "    json_response = response.json()\n",
    "    print(json_response)\n",
    "    print('\\n')\n",
    "    \n",
    "    # 4. Receive your tokens\n",
    "    return [json_response['access_token'], json_response['refresh_token']]"
   ]
  },
  {
   "cell_type": "code",
   "execution_count": 2,
   "metadata": {},
   "outputs": [
    {
     "name": "stdout",
     "output_type": "stream",
     "text": [
      "What is the response URL? https://www.xero.com/?code=0a620bb1b39acf932e527f35805c75e44586b0e9245878f0085847d54c1ab364&scope=accounting.transactions&state=123\n",
      "0a620bb1b39acf932e527f35805c75e44586b0e9245878f0085847d54c1ab364\n",
      "\n",
      "\n",
      "{'access_token': 'eyJhbGciOiJSUzI1NiIsImtpZCI6IjFDQUY4RTY2NzcyRDZEQzAyOEQ2NzI2RkQwMjYxNTgxNTcwRUZDMTkiLCJ0eXAiOiJKV1QiLCJ4NXQiOiJISy1PWm5jdGJjQW8xbkp2MENZVmdWY09fQmsifQ.eyJuYmYiOjE1OTQ3MzQ5NDIsImV4cCI6MTU5NDczNjc0MiwiaXNzIjoiaHR0cHM6Ly9pZGVudGl0eS54ZXJvLmNvbSIsImF1ZCI6Imh0dHBzOi8vaWRlbnRpdHkueGVyby5jb20vcmVzb3VyY2VzIiwiY2xpZW50X2lkIjoiOThDOUY1MzRBNUE0NEVDRTgzODRDQkI5NjNBOUM3OTAiLCJzdWIiOiIxNzAxNGVlNmEwOWY1NTI3YTc2MTVjOWJmOWIwODcxYiIsImF1dGhfdGltZSI6MTU5NDczNDkxNCwieGVyb191c2VyaWQiOiIzMzg2YTcwOS1hNGI1LTQ2MjctYTA1Yi04ZTQ0OGM2NTEzOGMiLCJnbG9iYWxfc2Vzc2lvbl9pZCI6ImNlZTdjYTg4MjQwYjRjNGM5ZDAxZjhlNDljOTc2OGI3IiwianRpIjoiMThiYzgxYTNhMWIxOWQ0MWQ3MzdhZDdiMTI3Mzc4MzYiLCJhdXRoZW50aWNhdGlvbl9ldmVudF9pZCI6IjhmNTM3MzJkLTAxYTEtNDdjMC05ZjZiLWRjZjFhZWZlNzkyNSIsInNjb3BlIjpbImFjY291bnRpbmcudHJhbnNhY3Rpb25zIiwib2ZmbGluZV9hY2Nlc3MiXX0.pV1NZj9bS8EnCjQ9g_TnwFWXumnXIDJAFNG58rx9wSoaiADj-bEylA43_UaQVhz438ZOoZETIMEthsKlTJXJ39ftkE9nSVY7gUrwoGcqZ_VHitxOzCWSPwRkcJPWi3d4EirDsBMCBFBmZ7ulbWtHMXU9SKmCTCp3ZXOzPKeRHDW0XsWAn_WigYxIFdOj5RomtcnQEUfTd6D5jFCfTUOQTQtN4PoqxM7ZyMRipA7xosSL8VzCm0xeMREAStPG8_CMo1mbGvG95wq1zQhYHpnkSlaCoDnvw011AFRKy5dOD_d_IDXY-UQeaonJ5TudAApXfziNFio3ELkJDt23bLJTyQ', 'expires_in': 1800, 'token_type': 'Bearer', 'refresh_token': '1117998daf1e8bae1c820b761659ffa49f664fe405ecd172a0ae4ee5029d1ecb', 'scope': 'accounting.transactions offline_access'}\n",
      "\n",
      "\n"
     ]
    },
    {
     "data": {
      "text/plain": [
       "['eyJhbGciOiJSUzI1NiIsImtpZCI6IjFDQUY4RTY2NzcyRDZEQzAyOEQ2NzI2RkQwMjYxNTgxNTcwRUZDMTkiLCJ0eXAiOiJKV1QiLCJ4NXQiOiJISy1PWm5jdGJjQW8xbkp2MENZVmdWY09fQmsifQ.eyJuYmYiOjE1OTQ3MzQ5NDIsImV4cCI6MTU5NDczNjc0MiwiaXNzIjoiaHR0cHM6Ly9pZGVudGl0eS54ZXJvLmNvbSIsImF1ZCI6Imh0dHBzOi8vaWRlbnRpdHkueGVyby5jb20vcmVzb3VyY2VzIiwiY2xpZW50X2lkIjoiOThDOUY1MzRBNUE0NEVDRTgzODRDQkI5NjNBOUM3OTAiLCJzdWIiOiIxNzAxNGVlNmEwOWY1NTI3YTc2MTVjOWJmOWIwODcxYiIsImF1dGhfdGltZSI6MTU5NDczNDkxNCwieGVyb191c2VyaWQiOiIzMzg2YTcwOS1hNGI1LTQ2MjctYTA1Yi04ZTQ0OGM2NTEzOGMiLCJnbG9iYWxfc2Vzc2lvbl9pZCI6ImNlZTdjYTg4MjQwYjRjNGM5ZDAxZjhlNDljOTc2OGI3IiwianRpIjoiMThiYzgxYTNhMWIxOWQ0MWQ3MzdhZDdiMTI3Mzc4MzYiLCJhdXRoZW50aWNhdGlvbl9ldmVudF9pZCI6IjhmNTM3MzJkLTAxYTEtNDdjMC05ZjZiLWRjZjFhZWZlNzkyNSIsInNjb3BlIjpbImFjY291bnRpbmcudHJhbnNhY3Rpb25zIiwib2ZmbGluZV9hY2Nlc3MiXX0.pV1NZj9bS8EnCjQ9g_TnwFWXumnXIDJAFNG58rx9wSoaiADj-bEylA43_UaQVhz438ZOoZETIMEthsKlTJXJ39ftkE9nSVY7gUrwoGcqZ_VHitxOzCWSPwRkcJPWi3d4EirDsBMCBFBmZ7ulbWtHMXU9SKmCTCp3ZXOzPKeRHDW0XsWAn_WigYxIFdOj5RomtcnQEUfTd6D5jFCfTUOQTQtN4PoqxM7ZyMRipA7xosSL8VzCm0xeMREAStPG8_CMo1mbGvG95wq1zQhYHpnkSlaCoDnvw011AFRKy5dOD_d_IDXY-UQeaonJ5TudAApXfziNFio3ELkJDt23bLJTyQ',\n",
       " '1117998daf1e8bae1c820b761659ffa49f664fe405ecd172a0ae4ee5029d1ecb']"
      ]
     },
     "execution_count": 2,
     "metadata": {},
     "output_type": "execute_result"
    }
   ],
   "source": [
    "XeroFirstAuth()"
   ]
  },
  {
   "cell_type": "code",
   "execution_count": 3,
   "metadata": {},
   "outputs": [],
   "source": [
    "# 5. Check the full set of tenants you've been authorized to access\n",
    "def XeroTenants(access_token):\n",
    "    connections_url = 'https://api.xero.com/connections'\n",
    "    response = requests.get(connections_url,\n",
    "                           headers = {\n",
    "                               'Authorization': 'Bearer ' + access_token,\n",
    "                               'Content-Type': 'application/json'\n",
    "                           })\n",
    "    json_response = response.json()\n",
    "    print(json_response)\n",
    "    \n",
    "    for tenants in json_response:\n",
    "        json_dict = tenants\n",
    "    return json_dict['tenantId']"
   ]
  },
  {
   "cell_type": "code",
   "execution_count": 5,
   "metadata": {},
   "outputs": [
    {
     "name": "stdout",
     "output_type": "stream",
     "text": [
      "[{'id': 'ea5b0a5d-0b35-4c22-9d61-1df40bee7f89', 'authEventId': '8f53732d-01a1-47c0-9f6b-dcf1aefe7925', 'tenantId': '32e30a7a-9db1-4348-a3c9-7c1913260320', 'tenantType': 'ORGANISATION', 'tenantName': 'SuperSOft', 'createdDateUtc': '2020-07-13T21:20:00.4221510', 'updatedDateUtc': '2020-07-14T13:55:29.9244630'}]\n"
     ]
    },
    {
     "data": {
      "text/plain": [
       "'32e30a7a-9db1-4348-a3c9-7c1913260320'"
      ]
     },
     "execution_count": 5,
     "metadata": {},
     "output_type": "execute_result"
    }
   ],
   "source": [
    "XeroTenants('eyJhbGciOiJSUzI1NiIsImtpZCI6IjFDQUY4RTY2NzcyRDZEQzAyOEQ2NzI2RkQwMjYxNTgxNTcwRUZDMTkiLCJ0eXAiOiJKV1QiLCJ4NXQiOiJISy1PWm5jdGJjQW8xbkp2MENZVmdWY09fQmsifQ.eyJuYmYiOjE1OTQ3MzQ5NDIsImV4cCI6MTU5NDczNjc0MiwiaXNzIjoiaHR0cHM6Ly9pZGVudGl0eS54ZXJvLmNvbSIsImF1ZCI6Imh0dHBzOi8vaWRlbnRpdHkueGVyby5jb20vcmVzb3VyY2VzIiwiY2xpZW50X2lkIjoiOThDOUY1MzRBNUE0NEVDRTgzODRDQkI5NjNBOUM3OTAiLCJzdWIiOiIxNzAxNGVlNmEwOWY1NTI3YTc2MTVjOWJmOWIwODcxYiIsImF1dGhfdGltZSI6MTU5NDczNDkxNCwieGVyb191c2VyaWQiOiIzMzg2YTcwOS1hNGI1LTQ2MjctYTA1Yi04ZTQ0OGM2NTEzOGMiLCJnbG9iYWxfc2Vzc2lvbl9pZCI6ImNlZTdjYTg4MjQwYjRjNGM5ZDAxZjhlNDljOTc2OGI3IiwianRpIjoiMThiYzgxYTNhMWIxOWQ0MWQ3MzdhZDdiMTI3Mzc4MzYiLCJhdXRoZW50aWNhdGlvbl9ldmVudF9pZCI6IjhmNTM3MzJkLTAxYTEtNDdjMC05ZjZiLWRjZjFhZWZlNzkyNSIsInNjb3BlIjpbImFjY291bnRpbmcudHJhbnNhY3Rpb25zIiwib2ZmbGluZV9hY2Nlc3MiXX0.pV1NZj9bS8EnCjQ9g_TnwFWXumnXIDJAFNG58rx9wSoaiADj-bEylA43_UaQVhz438ZOoZETIMEthsKlTJXJ39ftkE9nSVY7gUrwoGcqZ_VHitxOzCWSPwRkcJPWi3d4EirDsBMCBFBmZ7ulbWtHMXU9SKmCTCp3ZXOzPKeRHDW0XsWAn_WigYxIFdOj5RomtcnQEUfTd6D5jFCfTUOQTQtN4PoqxM7ZyMRipA7xosSL8VzCm0xeMREAStPG8_CMo1mbGvG95wq1zQhYHpnkSlaCoDnvw011AFRKy5dOD_d_IDXY-UQeaonJ5TudAApXfziNFio3ELkJDt23bLJTyQ')"
   ]
  },
  {
   "cell_type": "code",
   "execution_count": 25,
   "metadata": {},
   "outputs": [],
   "source": [
    "# 6.1 Refreshing access tokens\n",
    "def XeroRefreshToken(refresh_token):\n",
    "    token_refresh_url = 'https://identity.xero.com/connect/token'\n",
    "    response = requests.post(token_refresh_url,\n",
    "                            headers = {\n",
    "                                'Authorization' : 'Basic ' + b64_id_secret,\n",
    "                                'Content-Type': 'application/x-www-form-urlencoded'\n",
    "                            },\n",
    "                            data = {\n",
    "                                'grant_type' : 'refresh_token',\n",
    "                                'refresh_token' : refresh_token\n",
    "                            })\n",
    "    json_response = response.json()\n",
    "    print(json_response)\n",
    "    \n",
    "    new_refresh_token = json_response['refresh_token']\n",
    "    rt_file = open(r'/home/kashif/Desktop/Marketlytices/refresh_token.txt', 'w')\n",
    "    rt_file.write(new_refresh_token)\n",
    "    rt_file.close()\n",
    "    \n",
    "    return [json_response['access_token'], json_response['refresh_token']]"
   ]
  },
  {
   "cell_type": "code",
   "execution_count": 26,
   "metadata": {},
   "outputs": [],
   "source": [
    "# 6.2 Call the API\n",
    "def XeroRequests():\n",
    "    old_refresh_token = open(r'/home/kashif/Desktop/Marketlytices/refresh_token.txt', 'r').read()\n",
    "    new_tokens = XeroRefreshToken(old_refresh_token)\n",
    "    xero_tenant_id = XeroTenants(new_tokens[0])\n",
    "    \n",
    "    get_url = 'https://api.xero.com/api.xro/2.0/Invoices'\n",
    "    response = requests.get(get_url,\n",
    "                           headers = {\n",
    "                               'Authorization': 'Bearer ' + tokens[0],\n",
    "                               'Xero-tenant-id': xero_tenant_id,\n",
    "                               'Accept': 'application/json'\n",
    "                           })\n",
    "    json_response = requests.get(response.json())\n",
    "    print(json_response)\n",
    "    \n",
    "    xero_output = open(r'/home/kashif/Desktop/Marketlytices/xero_output.txt', 'w')\n",
    "    xero_output.write(response.text)\n",
    "    xero_output.close()"
   ]
  },
  {
   "cell_type": "code",
   "execution_count": 27,
   "metadata": {},
   "outputs": [],
   "source": [
    "def export_csv():\n",
    "    invoices = open(r'/home/kashif/Desktop/Marketlytices/xero_output.txt', 'r').read()\n",
    "    json_invoice = json.loads(invoices)\n",
    "    analysis = open(r'/home/kashif/Desktop/Marketlytices/analysis.csv', 'w')\n",
    "    analysis.write('Type' + ',' + 'Total')\n",
    "    analysis.write('\\n')\n",
    "    for invoices in json_invoice['Invoices']:\n",
    "        analysis.write(invoices['Type'] + ',' + str(invoices['Total']))\n",
    "        analysis.write('\\n')\n",
    "    analysis.close()"
   ]
  },
  {
   "cell_type": "code",
   "execution_count": 28,
   "metadata": {},
   "outputs": [],
   "source": [
    "export_csv()"
   ]
  },
  {
   "cell_type": "code",
   "execution_count": null,
   "metadata": {},
   "outputs": [],
   "source": [
    "# First Time running the script\n",
    "old_tokens = XeroFirstAuth()\n",
    "XeroRefreshToken(old_tokens[1])"
   ]
  },
  {
   "cell_type": "code",
   "execution_count": null,
   "metadata": {},
   "outputs": [],
   "source": [
    "# Every other time\n",
    "XeroRequests()"
   ]
  },
  {
   "cell_type": "code",
   "execution_count": null,
   "metadata": {},
   "outputs": [],
   "source": []
  }
 ],
 "metadata": {
  "kernelspec": {
   "display_name": "Python 3",
   "language": "python",
   "name": "python3"
  },
  "language_info": {
   "codemirror_mode": {
    "name": "ipython",
    "version": 3
   },
   "file_extension": ".py",
   "mimetype": "text/x-python",
   "name": "python",
   "nbconvert_exporter": "python",
   "pygments_lexer": "ipython3",
   "version": "3.7.4"
  }
 },
 "nbformat": 4,
 "nbformat_minor": 2
}
